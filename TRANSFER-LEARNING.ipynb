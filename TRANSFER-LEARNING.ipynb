{
  "cells": [
    {
      "cell_type": "code",
      "execution_count": 1,
      "metadata": {
        "colab": {
          "base_uri": "https://localhost:8080/"
        },
        "id": "l-zZ8Esdip1s",
        "outputId": "c8e5d76d-48a2-4d5a-c4d0-60b3c7fc0908"
      },
      "outputs": [
        {
          "output_type": "stream",
          "name": "stdout",
          "text": [
            "Collecting ktrain\n",
            "  Downloading ktrain-0.38.0.tar.gz (25.3 MB)\n",
            "\u001b[2K     \u001b[90m━━━━━━━━━━━━━━━━━━━━━━━━━━━━━━━━━━━━━━━━\u001b[0m \u001b[32m25.3/25.3 MB\u001b[0m \u001b[31m50.9 MB/s\u001b[0m eta \u001b[36m0:00:00\u001b[0m\n",
            "\u001b[?25h  Preparing metadata (setup.py) ... \u001b[?25l\u001b[?25hdone\n",
            "Requirement already satisfied: scikit-learn in /usr/local/lib/python3.10/dist-packages (from ktrain) (1.2.2)\n",
            "Requirement already satisfied: matplotlib>=3.0.0 in /usr/local/lib/python3.10/dist-packages (from ktrain) (3.7.1)\n",
            "Requirement already satisfied: pandas>=1.0.1 in /usr/local/lib/python3.10/dist-packages (from ktrain) (1.5.3)\n",
            "Requirement already satisfied: fastprogress>=0.1.21 in /usr/local/lib/python3.10/dist-packages (from ktrain) (1.0.3)\n",
            "Requirement already satisfied: requests in /usr/local/lib/python3.10/dist-packages (from ktrain) (2.31.0)\n",
            "Requirement already satisfied: joblib in /usr/local/lib/python3.10/dist-packages (from ktrain) (1.3.2)\n",
            "Requirement already satisfied: packaging in /usr/local/lib/python3.10/dist-packages (from ktrain) (23.2)\n",
            "Collecting langdetect (from ktrain)\n",
            "  Downloading langdetect-1.0.9.tar.gz (981 kB)\n",
            "\u001b[2K     \u001b[90m━━━━━━━━━━━━━━━━━━━━━━━━━━━━━━━━━━━━━━━━\u001b[0m \u001b[32m981.5/981.5 kB\u001b[0m \u001b[31m75.0 MB/s\u001b[0m eta \u001b[36m0:00:00\u001b[0m\n",
            "\u001b[?25h  Preparing metadata (setup.py) ... \u001b[?25l\u001b[?25hdone\n",
            "Requirement already satisfied: jieba in /usr/local/lib/python3.10/dist-packages (from ktrain) (0.42.1)\n",
            "Collecting cchardet (from ktrain)\n",
            "  Downloading cchardet-2.1.7.tar.gz (653 kB)\n",
            "\u001b[2K     \u001b[90m━━━━━━━━━━━━━━━━━━━━━━━━━━━━━━━━━━━━━━━━\u001b[0m \u001b[32m653.6/653.6 kB\u001b[0m \u001b[31m48.3 MB/s\u001b[0m eta \u001b[36m0:00:00\u001b[0m\n",
            "\u001b[?25h  Preparing metadata (setup.py) ... \u001b[?25l\u001b[?25hdone\n",
            "Requirement already satisfied: chardet in /usr/local/lib/python3.10/dist-packages (from ktrain) (5.2.0)\n",
            "Collecting syntok>1.3.3 (from ktrain)\n",
            "  Downloading syntok-1.4.4-py3-none-any.whl (24 kB)\n",
            "Collecting tika (from ktrain)\n",
            "  Downloading tika-2.6.0.tar.gz (27 kB)\n",
            "  Preparing metadata (setup.py) ... \u001b[?25l\u001b[?25hdone\n",
            "Collecting transformers>=4.17.0 (from ktrain)\n",
            "  Downloading transformers-4.34.1-py3-none-any.whl (7.7 MB)\n",
            "\u001b[2K     \u001b[90m━━━━━━━━━━━━━━━━━━━━━━━━━━━━━━━━━━━━━━━━\u001b[0m \u001b[32m7.7/7.7 MB\u001b[0m \u001b[31m104.7 MB/s\u001b[0m eta \u001b[36m0:00:00\u001b[0m\n",
            "\u001b[?25hCollecting sentencepiece (from ktrain)\n",
            "  Downloading sentencepiece-0.1.99-cp310-cp310-manylinux_2_17_x86_64.manylinux2014_x86_64.whl (1.3 MB)\n",
            "\u001b[2K     \u001b[90m━━━━━━━━━━━━━━━━━━━━━━━━━━━━━━━━━━━━━━━━\u001b[0m \u001b[32m1.3/1.3 MB\u001b[0m \u001b[31m77.1 MB/s\u001b[0m eta \u001b[36m0:00:00\u001b[0m\n",
            "\u001b[?25hCollecting keras_bert>=0.86.0 (from ktrain)\n",
            "  Downloading keras-bert-0.89.0.tar.gz (25 kB)\n",
            "  Preparing metadata (setup.py) ... \u001b[?25l\u001b[?25hdone\n",
            "Collecting whoosh (from ktrain)\n",
            "  Downloading Whoosh-2.7.4-py2.py3-none-any.whl (468 kB)\n",
            "\u001b[2K     \u001b[90m━━━━━━━━━━━━━━━━━━━━━━━━━━━━━━━━━━━━━━━━\u001b[0m \u001b[32m468.8/468.8 kB\u001b[0m \u001b[31m49.2 MB/s\u001b[0m eta \u001b[36m0:00:00\u001b[0m\n",
            "\u001b[?25hRequirement already satisfied: numpy in /usr/local/lib/python3.10/dist-packages (from keras_bert>=0.86.0->ktrain) (1.23.5)\n",
            "Collecting keras-transformer==0.40.0 (from keras_bert>=0.86.0->ktrain)\n",
            "  Downloading keras-transformer-0.40.0.tar.gz (9.7 kB)\n",
            "  Preparing metadata (setup.py) ... \u001b[?25l\u001b[?25hdone\n",
            "Collecting keras-pos-embd==0.13.0 (from keras-transformer==0.40.0->keras_bert>=0.86.0->ktrain)\n",
            "  Downloading keras-pos-embd-0.13.0.tar.gz (5.6 kB)\n",
            "  Preparing metadata (setup.py) ... \u001b[?25l\u001b[?25hdone\n",
            "Collecting keras-multi-head==0.29.0 (from keras-transformer==0.40.0->keras_bert>=0.86.0->ktrain)\n",
            "  Downloading keras-multi-head-0.29.0.tar.gz (13 kB)\n",
            "  Preparing metadata (setup.py) ... \u001b[?25l\u001b[?25hdone\n",
            "Collecting keras-layer-normalization==0.16.0 (from keras-transformer==0.40.0->keras_bert>=0.86.0->ktrain)\n",
            "  Downloading keras-layer-normalization-0.16.0.tar.gz (3.9 kB)\n",
            "  Preparing metadata (setup.py) ... \u001b[?25l\u001b[?25hdone\n",
            "Collecting keras-position-wise-feed-forward==0.8.0 (from keras-transformer==0.40.0->keras_bert>=0.86.0->ktrain)\n",
            "  Downloading keras-position-wise-feed-forward-0.8.0.tar.gz (4.1 kB)\n",
            "  Preparing metadata (setup.py) ... \u001b[?25l\u001b[?25hdone\n",
            "Collecting keras-embed-sim==0.10.0 (from keras-transformer==0.40.0->keras_bert>=0.86.0->ktrain)\n",
            "  Downloading keras-embed-sim-0.10.0.tar.gz (3.6 kB)\n",
            "  Preparing metadata (setup.py) ... \u001b[?25l\u001b[?25hdone\n",
            "Collecting keras-self-attention==0.51.0 (from keras-multi-head==0.29.0->keras-transformer==0.40.0->keras_bert>=0.86.0->ktrain)\n",
            "  Downloading keras-self-attention-0.51.0.tar.gz (11 kB)\n",
            "  Preparing metadata (setup.py) ... \u001b[?25l\u001b[?25hdone\n",
            "Requirement already satisfied: contourpy>=1.0.1 in /usr/local/lib/python3.10/dist-packages (from matplotlib>=3.0.0->ktrain) (1.1.1)\n",
            "Requirement already satisfied: cycler>=0.10 in /usr/local/lib/python3.10/dist-packages (from matplotlib>=3.0.0->ktrain) (0.12.1)\n",
            "Requirement already satisfied: fonttools>=4.22.0 in /usr/local/lib/python3.10/dist-packages (from matplotlib>=3.0.0->ktrain) (4.43.1)\n",
            "Requirement already satisfied: kiwisolver>=1.0.1 in /usr/local/lib/python3.10/dist-packages (from matplotlib>=3.0.0->ktrain) (1.4.5)\n",
            "Requirement already satisfied: pillow>=6.2.0 in /usr/local/lib/python3.10/dist-packages (from matplotlib>=3.0.0->ktrain) (9.4.0)\n",
            "Requirement already satisfied: pyparsing>=2.3.1 in /usr/local/lib/python3.10/dist-packages (from matplotlib>=3.0.0->ktrain) (3.1.1)\n",
            "Requirement already satisfied: python-dateutil>=2.7 in /usr/local/lib/python3.10/dist-packages (from matplotlib>=3.0.0->ktrain) (2.8.2)\n",
            "Requirement already satisfied: pytz>=2020.1 in /usr/local/lib/python3.10/dist-packages (from pandas>=1.0.1->ktrain) (2023.3.post1)\n",
            "Requirement already satisfied: regex>2016 in /usr/local/lib/python3.10/dist-packages (from syntok>1.3.3->ktrain) (2023.6.3)\n",
            "Requirement already satisfied: filelock in /usr/local/lib/python3.10/dist-packages (from transformers>=4.17.0->ktrain) (3.12.4)\n",
            "Collecting huggingface-hub<1.0,>=0.16.4 (from transformers>=4.17.0->ktrain)\n",
            "  Downloading huggingface_hub-0.18.0-py3-none-any.whl (301 kB)\n",
            "\u001b[2K     \u001b[90m━━━━━━━━━━━━━━━━━━━━━━━━━━━━━━━━━━━━━━━━\u001b[0m \u001b[32m302.0/302.0 kB\u001b[0m \u001b[31m36.2 MB/s\u001b[0m eta \u001b[36m0:00:00\u001b[0m\n",
            "\u001b[?25hRequirement already satisfied: pyyaml>=5.1 in /usr/local/lib/python3.10/dist-packages (from transformers>=4.17.0->ktrain) (6.0.1)\n",
            "Collecting tokenizers<0.15,>=0.14 (from transformers>=4.17.0->ktrain)\n",
            "  Downloading tokenizers-0.14.1-cp310-cp310-manylinux_2_17_x86_64.manylinux2014_x86_64.whl (3.8 MB)\n",
            "\u001b[2K     \u001b[90m━━━━━━━━━━━━━━━━━━━━━━━━━━━━━━━━━━━━━━━━\u001b[0m \u001b[32m3.8/3.8 MB\u001b[0m \u001b[31m108.1 MB/s\u001b[0m eta \u001b[36m0:00:00\u001b[0m\n",
            "\u001b[?25hCollecting safetensors>=0.3.1 (from transformers>=4.17.0->ktrain)\n",
            "  Downloading safetensors-0.4.0-cp310-cp310-manylinux_2_17_x86_64.manylinux2014_x86_64.whl (1.3 MB)\n",
            "\u001b[2K     \u001b[90m━━━━━━━━━━━━━━━━━━━━━━━━━━━━━━━━━━━━━━━━\u001b[0m \u001b[32m1.3/1.3 MB\u001b[0m \u001b[31m81.0 MB/s\u001b[0m eta \u001b[36m0:00:00\u001b[0m\n",
            "\u001b[?25hRequirement already satisfied: tqdm>=4.27 in /usr/local/lib/python3.10/dist-packages (from transformers>=4.17.0->ktrain) (4.66.1)\n",
            "Requirement already satisfied: six in /usr/local/lib/python3.10/dist-packages (from langdetect->ktrain) (1.16.0)\n",
            "Requirement already satisfied: charset-normalizer<4,>=2 in /usr/local/lib/python3.10/dist-packages (from requests->ktrain) (3.3.1)\n",
            "Requirement already satisfied: idna<4,>=2.5 in /usr/local/lib/python3.10/dist-packages (from requests->ktrain) (3.4)\n",
            "Requirement already satisfied: urllib3<3,>=1.21.1 in /usr/local/lib/python3.10/dist-packages (from requests->ktrain) (2.0.7)\n",
            "Requirement already satisfied: certifi>=2017.4.17 in /usr/local/lib/python3.10/dist-packages (from requests->ktrain) (2023.7.22)\n",
            "Requirement already satisfied: scipy>=1.3.2 in /usr/local/lib/python3.10/dist-packages (from scikit-learn->ktrain) (1.11.3)\n",
            "Requirement already satisfied: threadpoolctl>=2.0.0 in /usr/local/lib/python3.10/dist-packages (from scikit-learn->ktrain) (3.2.0)\n",
            "Requirement already satisfied: setuptools in /usr/local/lib/python3.10/dist-packages (from tika->ktrain) (67.7.2)\n",
            "Requirement already satisfied: fsspec>=2023.5.0 in /usr/local/lib/python3.10/dist-packages (from huggingface-hub<1.0,>=0.16.4->transformers>=4.17.0->ktrain) (2023.6.0)\n",
            "Requirement already satisfied: typing-extensions>=3.7.4.3 in /usr/local/lib/python3.10/dist-packages (from huggingface-hub<1.0,>=0.16.4->transformers>=4.17.0->ktrain) (4.5.0)\n",
            "Collecting huggingface-hub<1.0,>=0.16.4 (from transformers>=4.17.0->ktrain)\n",
            "  Downloading huggingface_hub-0.17.3-py3-none-any.whl (295 kB)\n",
            "\u001b[2K     \u001b[90m━━━━━━━━━━━━━━━━━━━━━━━━━━━━━━━━━━━━━━━━\u001b[0m \u001b[32m295.0/295.0 kB\u001b[0m \u001b[31m27.3 MB/s\u001b[0m eta \u001b[36m0:00:00\u001b[0m\n",
            "\u001b[?25hBuilding wheels for collected packages: ktrain, keras_bert, keras-transformer, keras-embed-sim, keras-layer-normalization, keras-multi-head, keras-pos-embd, keras-position-wise-feed-forward, keras-self-attention, cchardet, langdetect, tika\n",
            "  Building wheel for ktrain (setup.py) ... \u001b[?25l\u001b[?25hdone\n",
            "  Created wheel for ktrain: filename=ktrain-0.38.0-py3-none-any.whl size=25319962 sha256=490f46235f4bba8e483b470253c24701434bc7e53c9cc4a399d88cbad6e37d11\n",
            "  Stored in directory: /root/.cache/pip/wheels/10/76/6b/5799f396ca78a8c38c7c6439a192ca88538a97cfb970946da5\n",
            "  Building wheel for keras_bert (setup.py) ... \u001b[?25l\u001b[?25hdone\n",
            "  Created wheel for keras_bert: filename=keras_bert-0.89.0-py3-none-any.whl size=33499 sha256=c5b9fd40873db4f9240898d9c4b1fdd9ca7e1876581cb393015ea3f9e4f9f2df\n",
            "  Stored in directory: /root/.cache/pip/wheels/89/0c/04/646b6fdf6375911b42c8d540a8a3fda8d5d77634e5dcbe7b26\n",
            "  Building wheel for keras-transformer (setup.py) ... \u001b[?25l\u001b[?25hdone\n",
            "  Created wheel for keras-transformer: filename=keras_transformer-0.40.0-py3-none-any.whl size=12285 sha256=56a52d0d576621c3de1fa26f2453b1ca048cd6672d0e5949013509caa22dd64a\n",
            "  Stored in directory: /root/.cache/pip/wheels/f2/cb/22/75a0ad376129177f7c95c0d91331a18f5368fd657f4035ba7c\n",
            "  Building wheel for keras-embed-sim (setup.py) ... \u001b[?25l\u001b[?25hdone\n",
            "  Created wheel for keras-embed-sim: filename=keras_embed_sim-0.10.0-py3-none-any.whl size=3945 sha256=681e5d0caaee6ef38f4817cae8385d8a1551eb38a16949c3c41bdbd4b95f1fb6\n",
            "  Stored in directory: /root/.cache/pip/wheels/82/32/c7/fd35d0d1b840a6c7cbd4343f808d10d0f7b87d271a4dbe796f\n",
            "  Building wheel for keras-layer-normalization (setup.py) ... \u001b[?25l\u001b[?25hdone\n",
            "  Created wheel for keras-layer-normalization: filename=keras_layer_normalization-0.16.0-py3-none-any.whl size=4654 sha256=7f22d6d91ec8427741addf9df9e0d8534e376a10b7d1a8fffc810413a78f4d76\n",
            "  Stored in directory: /root/.cache/pip/wheels/ed/3a/4b/21db23c0cc56c4b219616e181f258eb7c57d36cc5d056fae9a\n",
            "  Building wheel for keras-multi-head (setup.py) ... \u001b[?25l\u001b[?25hdone\n",
            "  Created wheel for keras-multi-head: filename=keras_multi_head-0.29.0-py3-none-any.whl size=14977 sha256=acf3cb241c655f9b4e715980c4e21831bd828e3882ca4a411b5906e765e7a847\n",
            "  Stored in directory: /root/.cache/pip/wheels/cb/23/4b/06d7ae21714f70fcc25b48f972cc8e5e7f4b6b764a038b509d\n",
            "  Building wheel for keras-pos-embd (setup.py) ... \u001b[?25l\u001b[?25hdone\n",
            "  Created wheel for keras-pos-embd: filename=keras_pos_embd-0.13.0-py3-none-any.whl size=6945 sha256=25836c3049ce39b4e1bd378639c2c5bf3d91ebe135d89901237d02595b114fca\n",
            "  Stored in directory: /root/.cache/pip/wheels/78/07/1b/b1ca47b6ac338554b75c8f52c54e6a2bfbe1b07d79579979a4\n",
            "  Building wheel for keras-position-wise-feed-forward (setup.py) ... \u001b[?25l\u001b[?25hdone\n",
            "  Created wheel for keras-position-wise-feed-forward: filename=keras_position_wise_feed_forward-0.8.0-py3-none-any.whl size=4969 sha256=d4fda211fc4aedd703c3a0febccfadaf9fdc843fc9df5e35b161240a0859f17b\n",
            "  Stored in directory: /root/.cache/pip/wheels/c1/6a/04/d1706a53b23b2cb5f9a0a76269bf87925daa1bca09eac01b21\n",
            "  Building wheel for keras-self-attention (setup.py) ... \u001b[?25l\u001b[?25hdone\n",
            "  Created wheel for keras-self-attention: filename=keras_self_attention-0.51.0-py3-none-any.whl size=18895 sha256=270dd0ba9a93b5e4ed1696a9799f171c4a9f6b7772f2dac42e82e2f9cf564ba4\n",
            "  Stored in directory: /root/.cache/pip/wheels/b8/f7/24/607b483144fb9c47b4ba2c5fba6b68e54aeee2d5bf6c05302e\n",
            "  Building wheel for cchardet (setup.py) ... \u001b[?25l\u001b[?25hdone\n",
            "  Created wheel for cchardet: filename=cchardet-2.1.7-cp310-cp310-linux_x86_64.whl size=289195 sha256=d476a535308713d8b9fd422f9ed71a68eee5ae6efac74cd56bf8f64e8f649cd1\n",
            "  Stored in directory: /root/.cache/pip/wheels/ee/e0/ab/e01326f15c59438d080b1496dbab8091e952ec72f35e3c437e\n",
            "  Building wheel for langdetect (setup.py) ... \u001b[?25l\u001b[?25hdone\n",
            "  Created wheel for langdetect: filename=langdetect-1.0.9-py3-none-any.whl size=993224 sha256=c9a09b5ba2d91b89c57ba247dbb6e789a94f99e1fc60ea8b2c08b6cac37704ca\n",
            "  Stored in directory: /root/.cache/pip/wheels/95/03/7d/59ea870c70ce4e5a370638b5462a7711ab78fba2f655d05106\n",
            "  Building wheel for tika (setup.py) ... \u001b[?25l\u001b[?25hdone\n",
            "  Created wheel for tika: filename=tika-2.6.0-py3-none-any.whl size=32621 sha256=5974da328dcd6f475bd7158dcf5513bfdb0514d575e4c996a06091a5ab03ff71\n",
            "  Stored in directory: /root/.cache/pip/wheels/5f/71/c7/b757709531121b1700cffda5b6b0d4aad095fb507ec84316d0\n",
            "Successfully built ktrain keras_bert keras-transformer keras-embed-sim keras-layer-normalization keras-multi-head keras-pos-embd keras-position-wise-feed-forward keras-self-attention cchardet langdetect tika\n",
            "Installing collected packages: whoosh, sentencepiece, cchardet, syntok, safetensors, langdetect, keras-self-attention, keras-position-wise-feed-forward, keras-pos-embd, keras-layer-normalization, keras-embed-sim, tika, keras-multi-head, huggingface-hub, tokenizers, keras-transformer, transformers, keras_bert, ktrain\n",
            "Successfully installed cchardet-2.1.7 huggingface-hub-0.17.3 keras-embed-sim-0.10.0 keras-layer-normalization-0.16.0 keras-multi-head-0.29.0 keras-pos-embd-0.13.0 keras-position-wise-feed-forward-0.8.0 keras-self-attention-0.51.0 keras-transformer-0.40.0 keras_bert-0.89.0 ktrain-0.38.0 langdetect-1.0.9 safetensors-0.4.0 sentencepiece-0.1.99 syntok-1.4.4 tika-2.6.0 tokenizers-0.14.1 transformers-4.34.1 whoosh-2.7.4\n"
          ]
        }
      ],
      "source": [
        "!pip3 install ktrain"
      ]
    },
    {
      "cell_type": "code",
      "execution_count": 2,
      "metadata": {
        "id": "NawlDtYDol0e"
      },
      "outputs": [],
      "source": [
        "import numpy as np\n",
        "import pandas as pd\n",
        "import ktrain\n",
        "from ktrain import text"
      ]
    },
    {
      "cell_type": "code",
      "execution_count": 5,
      "metadata": {
        "colab": {
          "base_uri": "https://localhost:8080/"
        },
        "id": "FwYkdeAHpv_K",
        "outputId": "474e0cdd-c74b-4b76-bf4b-3bf75ea1d4b2"
      },
      "outputs": [
        {
          "output_type": "stream",
          "name": "stdout",
          "text": [
            "Mounted at /content/drive\n"
          ]
        }
      ],
      "source": [
        "from google.colab import drive\n",
        "drive.mount('/content/drive')"
      ]
    },
    {
      "cell_type": "code",
      "source": [
        "df= pd.read_csv(\"/content/tweet_and_emotion.csv\")"
      ],
      "metadata": {
        "id": "4Vim8D9k1mYS"
      },
      "execution_count": 7,
      "outputs": []
    },
    {
      "cell_type": "code",
      "source": [
        "df.shape"
      ],
      "metadata": {
        "colab": {
          "base_uri": "https://localhost:8080/"
        },
        "id": "GPLWe-kS11x2",
        "outputId": "6682133d-03dd-4823-f596-71490429408f"
      },
      "execution_count": 8,
      "outputs": [
        {
          "output_type": "execute_result",
          "data": {
            "text/plain": [
              "(10624, 2)"
            ]
          },
          "metadata": {},
          "execution_count": 8
        }
      ]
    },
    {
      "cell_type": "code",
      "source": [
        "print(df.emotions.value_counts())"
      ],
      "metadata": {
        "colab": {
          "base_uri": "https://localhost:8080/"
        },
        "id": "alZfirfB2i1i",
        "outputId": "b6f87cdf-a953-4fe0-e44f-09e3012e8d71"
      },
      "execution_count": 9,
      "outputs": [
        {
          "output_type": "stream",
          "name": "stdout",
          "text": [
            "fear       2252\n",
            "neutral    2238\n",
            "sadness    2198\n",
            "joy        2125\n",
            "anger      1811\n",
            "Name: emotions, dtype: int64\n"
          ]
        }
      ]
    },
    {
      "cell_type": "code",
      "execution_count": 10,
      "metadata": {
        "id": "yOrTgca_qXIO"
      },
      "outputs": [],
      "source": [
        "data_set = df['tweet']\n",
        "target= df['emotions']"
      ]
    },
    {
      "cell_type": "code",
      "execution_count": 11,
      "metadata": {
        "id": "TkbChT8GqZ_v"
      },
      "outputs": [],
      "source": [
        "class_names = [\"fear\",\"neutral\",\"sadness\",\"joy\",\"anger\"]"
      ]
    },
    {
      "cell_type": "code",
      "execution_count": 12,
      "metadata": {
        "id": "Fx-Jw5LLqzMh"
      },
      "outputs": [],
      "source": [
        "from sklearn.model_selection import train_test_split\n",
        "x_train, x_test, y_train, y_test=train_test_split(data_set, target , test_size=0.2 ,random_state=42)"
      ]
    },
    {
      "cell_type": "code",
      "execution_count": 13,
      "metadata": {
        "id": "coB68QHlrV_K"
      },
      "outputs": [],
      "source": [
        "x_train = x_train.tolist()\n",
        "x_test = x_test.tolist()\n",
        "\n",
        "y_train = y_train.tolist()\n",
        "y_test = y_test.tolist()"
      ]
    },
    {
      "cell_type": "code",
      "execution_count": 14,
      "metadata": {
        "id": "5lpGHJt_rYho"
      },
      "outputs": [],
      "source": [
        "encoding = {\n",
        "  \"fear\":0,\n",
        "  \"neutral\":1,\n",
        " \"sadness\":2,\n",
        "  \"joy\":3,\n",
        " \"anger\":4,\n",
        "}\n",
        "\n",
        "# Integer values for each class\n",
        "y_train = [encoding[x] for x in y_train]\n",
        "y_test = [encoding[x] for x in y_test]"
      ]
    },
    {
      "cell_type": "code",
      "execution_count": 15,
      "metadata": {
        "colab": {
          "base_uri": "https://localhost:8080/",
          "height": 295
        },
        "id": "TQzArlVgrdZT",
        "outputId": "6a78f7ed-b179-4fda-c8ad-441b6f1e2ca1"
      },
      "outputs": [
        {
          "output_type": "stream",
          "name": "stdout",
          "text": [
            "downloading pretrained BERT model (uncased_L-12_H-768_A-12.zip)...\n",
            "[██████████████████████████████████████████████████]\n",
            "extracting pretrained BERT model...\n",
            "done.\n",
            "\n",
            "cleanup downloaded zip...\n",
            "done.\n",
            "\n",
            "preprocessing train...\n",
            "language: en\n"
          ]
        },
        {
          "output_type": "display_data",
          "data": {
            "text/plain": [
              "<IPython.core.display.HTML object>"
            ],
            "text/html": [
              "\n",
              "<style>\n",
              "    /* Turns off some styling */\n",
              "    progress {\n",
              "        /* gets rid of default border in Firefox and Opera. */\n",
              "        border: none;\n",
              "        /* Needs to be in here for Safari polyfill so background images work as expected. */\n",
              "        background-size: auto;\n",
              "    }\n",
              "    progress:not([value]), progress:not([value])::-webkit-progress-bar {\n",
              "        background: repeating-linear-gradient(45deg, #7e7e7e, #7e7e7e 10px, #5c5c5c 10px, #5c5c5c 20px);\n",
              "    }\n",
              "    .progress-bar-interrupted, .progress-bar-interrupted::-webkit-progress-bar {\n",
              "        background: #F44336;\n",
              "    }\n",
              "</style>\n"
            ]
          },
          "metadata": {}
        },
        {
          "output_type": "display_data",
          "data": {
            "text/plain": [
              "<IPython.core.display.HTML object>"
            ],
            "text/html": [
              "done."
            ]
          },
          "metadata": {}
        },
        {
          "output_type": "stream",
          "name": "stdout",
          "text": [
            "Is Multi-Label? False\n",
            "preprocessing test...\n",
            "language: en\n"
          ]
        },
        {
          "output_type": "display_data",
          "data": {
            "text/plain": [
              "<IPython.core.display.HTML object>"
            ],
            "text/html": [
              "\n",
              "<style>\n",
              "    /* Turns off some styling */\n",
              "    progress {\n",
              "        /* gets rid of default border in Firefox and Opera. */\n",
              "        border: none;\n",
              "        /* Needs to be in here for Safari polyfill so background images work as expected. */\n",
              "        background-size: auto;\n",
              "    }\n",
              "    progress:not([value]), progress:not([value])::-webkit-progress-bar {\n",
              "        background: repeating-linear-gradient(45deg, #7e7e7e, #7e7e7e 10px, #5c5c5c 10px, #5c5c5c 20px);\n",
              "    }\n",
              "    .progress-bar-interrupted, .progress-bar-interrupted::-webkit-progress-bar {\n",
              "        background: #F44336;\n",
              "    }\n",
              "</style>\n"
            ]
          },
          "metadata": {}
        },
        {
          "output_type": "display_data",
          "data": {
            "text/plain": [
              "<IPython.core.display.HTML object>"
            ],
            "text/html": [
              "done."
            ]
          },
          "metadata": {}
        },
        {
          "output_type": "stream",
          "name": "stdout",
          "text": [
            "task: text classification\n"
          ]
        }
      ],
      "source": [
        "(x_train,  y_train), (x_test, y_test), preproc = text.texts_from_array(x_train=x_train, y_train=y_train,\n",
        "                                                                       x_test=x_test, y_test=y_test,\n",
        "                                                                       class_names=class_names,\n",
        "                                                                       preprocess_mode='bert',\n",
        "                                                                       maxlen=350,\n",
        "                                                                       max_features=35000)"
      ]
    },
    {
      "cell_type": "code",
      "execution_count": 16,
      "metadata": {
        "colab": {
          "base_uri": "https://localhost:8080/"
        },
        "id": "vuuSs5bZrlJv",
        "outputId": "2ef85ee3-eb8a-4bc7-da2c-56f79fe9b5e3"
      },
      "outputs": [
        {
          "output_type": "stream",
          "name": "stdout",
          "text": [
            "Is Multi-Label? False\n",
            "maxlen is 350\n"
          ]
        },
        {
          "output_type": "stream",
          "name": "stderr",
          "text": [
            "/usr/local/lib/python3.10/dist-packages/keras/src/initializers/initializers.py:120: UserWarning: The initializer GlorotNormal is unseeded and being called multiple times, which will return identical values each time (even if the initializer is unseeded). Please update your code to provide a seed to the initializer, or avoid using the same initializer instance more than once.\n",
            "  warnings.warn(\n"
          ]
        },
        {
          "output_type": "stream",
          "name": "stdout",
          "text": [
            "done.\n"
          ]
        }
      ],
      "source": [
        "model = text.text_classifier('bert', train_data=(x_train, y_train), preproc=preproc)"
      ]
    },
    {
      "cell_type": "code",
      "execution_count": 17,
      "metadata": {
        "colab": {
          "base_uri": "https://localhost:8080/"
        },
        "id": "1niUYXV8w6x4",
        "outputId": "0fe29e28-884d-499e-d1d5-017fa4d19765"
      },
      "outputs": [
        {
          "output_type": "stream",
          "name": "stdout",
          "text": [
            "Model: \"model_1\"\n",
            "__________________________________________________________________________________________________\n",
            " Layer (type)                Output Shape                 Param #   Connected to                  \n",
            "==================================================================================================\n",
            " Input-Token (InputLayer)    [(None, 350)]                0         []                            \n",
            "                                                                                                  \n",
            " Input-Segment (InputLayer)  [(None, 350)]                0         []                            \n",
            "                                                                                                  \n",
            " Embedding-Token (TokenEmbe  [(None, 350, 768),           2344089   ['Input-Token[0][0]']         \n",
            " dding)                       (30522, 768)]               6                                       \n",
            "                                                                                                  \n",
            " Embedding-Segment (Embeddi  (None, 350, 768)             1536      ['Input-Segment[0][0]']       \n",
            " ng)                                                                                              \n",
            "                                                                                                  \n",
            " Embedding-Token-Segment (A  (None, 350, 768)             0         ['Embedding-Token[0][0]',     \n",
            " dd)                                                                 'Embedding-Segment[0][0]']   \n",
            "                                                                                                  \n",
            " Embedding-Position (Positi  (None, 350, 768)             268800    ['Embedding-Token-Segment[0][0\n",
            " onEmbedding)                                                       ]']                           \n",
            "                                                                                                  \n",
            " Embedding-Dropout (Dropout  (None, 350, 768)             0         ['Embedding-Position[0][0]']  \n",
            " )                                                                                                \n",
            "                                                                                                  \n",
            " Embedding-Norm (LayerNorma  (None, 350, 768)             1536      ['Embedding-Dropout[0][0]']   \n",
            " lization)                                                                                        \n",
            "                                                                                                  \n",
            " Encoder-1-MultiHeadSelfAtt  (None, 350, 768)             2362368   ['Embedding-Norm[0][0]']      \n",
            " ention (MultiHeadAttention                                                                       \n",
            " )                                                                                                \n",
            "                                                                                                  \n",
            " Encoder-1-MultiHeadSelfAtt  (None, 350, 768)             0         ['Encoder-1-MultiHeadSelfAtten\n",
            " ention-Dropout (Dropout)                                           tion[0][0]']                  \n",
            "                                                                                                  \n",
            " Encoder-1-MultiHeadSelfAtt  (None, 350, 768)             0         ['Embedding-Norm[0][0]',      \n",
            " ention-Add (Add)                                                    'Encoder-1-MultiHeadSelfAtten\n",
            "                                                                    tion-Dropout[0][0]']          \n",
            "                                                                                                  \n",
            " Encoder-1-MultiHeadSelfAtt  (None, 350, 768)             1536      ['Encoder-1-MultiHeadSelfAtten\n",
            " ention-Norm (LayerNormaliz                                         tion-Add[0][0]']              \n",
            " ation)                                                                                           \n",
            "                                                                                                  \n",
            " Encoder-1-FeedForward (Fee  (None, 350, 768)             4722432   ['Encoder-1-MultiHeadSelfAtten\n",
            " dForward)                                                          tion-Norm[0][0]']             \n",
            "                                                                                                  \n",
            " Encoder-1-FeedForward-Drop  (None, 350, 768)             0         ['Encoder-1-FeedForward[0][0]'\n",
            " out (Dropout)                                                      ]                             \n",
            "                                                                                                  \n",
            " Encoder-1-FeedForward-Add   (None, 350, 768)             0         ['Encoder-1-MultiHeadSelfAtten\n",
            " (Add)                                                              tion-Norm[0][0]',             \n",
            "                                                                     'Encoder-1-FeedForward-Dropou\n",
            "                                                                    t[0][0]']                     \n",
            "                                                                                                  \n",
            " Encoder-1-FeedForward-Norm  (None, 350, 768)             1536      ['Encoder-1-FeedForward-Add[0]\n",
            "  (LayerNormalization)                                              [0]']                         \n",
            "                                                                                                  \n",
            " Encoder-2-MultiHeadSelfAtt  (None, 350, 768)             2362368   ['Encoder-1-FeedForward-Norm[0\n",
            " ention (MultiHeadAttention                                         ][0]']                        \n",
            " )                                                                                                \n",
            "                                                                                                  \n",
            " Encoder-2-MultiHeadSelfAtt  (None, 350, 768)             0         ['Encoder-2-MultiHeadSelfAtten\n",
            " ention-Dropout (Dropout)                                           tion[0][0]']                  \n",
            "                                                                                                  \n",
            " Encoder-2-MultiHeadSelfAtt  (None, 350, 768)             0         ['Encoder-1-FeedForward-Norm[0\n",
            " ention-Add (Add)                                                   ][0]',                        \n",
            "                                                                     'Encoder-2-MultiHeadSelfAtten\n",
            "                                                                    tion-Dropout[0][0]']          \n",
            "                                                                                                  \n",
            " Encoder-2-MultiHeadSelfAtt  (None, 350, 768)             1536      ['Encoder-2-MultiHeadSelfAtten\n",
            " ention-Norm (LayerNormaliz                                         tion-Add[0][0]']              \n",
            " ation)                                                                                           \n",
            "                                                                                                  \n",
            " Encoder-2-FeedForward (Fee  (None, 350, 768)             4722432   ['Encoder-2-MultiHeadSelfAtten\n",
            " dForward)                                                          tion-Norm[0][0]']             \n",
            "                                                                                                  \n",
            " Encoder-2-FeedForward-Drop  (None, 350, 768)             0         ['Encoder-2-FeedForward[0][0]'\n",
            " out (Dropout)                                                      ]                             \n",
            "                                                                                                  \n",
            " Encoder-2-FeedForward-Add   (None, 350, 768)             0         ['Encoder-2-MultiHeadSelfAtten\n",
            " (Add)                                                              tion-Norm[0][0]',             \n",
            "                                                                     'Encoder-2-FeedForward-Dropou\n",
            "                                                                    t[0][0]']                     \n",
            "                                                                                                  \n",
            " Encoder-2-FeedForward-Norm  (None, 350, 768)             1536      ['Encoder-2-FeedForward-Add[0]\n",
            "  (LayerNormalization)                                              [0]']                         \n",
            "                                                                                                  \n",
            " Encoder-3-MultiHeadSelfAtt  (None, 350, 768)             2362368   ['Encoder-2-FeedForward-Norm[0\n",
            " ention (MultiHeadAttention                                         ][0]']                        \n",
            " )                                                                                                \n",
            "                                                                                                  \n",
            " Encoder-3-MultiHeadSelfAtt  (None, 350, 768)             0         ['Encoder-3-MultiHeadSelfAtten\n",
            " ention-Dropout (Dropout)                                           tion[0][0]']                  \n",
            "                                                                                                  \n",
            " Encoder-3-MultiHeadSelfAtt  (None, 350, 768)             0         ['Encoder-2-FeedForward-Norm[0\n",
            " ention-Add (Add)                                                   ][0]',                        \n",
            "                                                                     'Encoder-3-MultiHeadSelfAtten\n",
            "                                                                    tion-Dropout[0][0]']          \n",
            "                                                                                                  \n",
            " Encoder-3-MultiHeadSelfAtt  (None, 350, 768)             1536      ['Encoder-3-MultiHeadSelfAtten\n",
            " ention-Norm (LayerNormaliz                                         tion-Add[0][0]']              \n",
            " ation)                                                                                           \n",
            "                                                                                                  \n",
            " Encoder-3-FeedForward (Fee  (None, 350, 768)             4722432   ['Encoder-3-MultiHeadSelfAtten\n",
            " dForward)                                                          tion-Norm[0][0]']             \n",
            "                                                                                                  \n",
            " Encoder-3-FeedForward-Drop  (None, 350, 768)             0         ['Encoder-3-FeedForward[0][0]'\n",
            " out (Dropout)                                                      ]                             \n",
            "                                                                                                  \n",
            " Encoder-3-FeedForward-Add   (None, 350, 768)             0         ['Encoder-3-MultiHeadSelfAtten\n",
            " (Add)                                                              tion-Norm[0][0]',             \n",
            "                                                                     'Encoder-3-FeedForward-Dropou\n",
            "                                                                    t[0][0]']                     \n",
            "                                                                                                  \n",
            " Encoder-3-FeedForward-Norm  (None, 350, 768)             1536      ['Encoder-3-FeedForward-Add[0]\n",
            "  (LayerNormalization)                                              [0]']                         \n",
            "                                                                                                  \n",
            " Encoder-4-MultiHeadSelfAtt  (None, 350, 768)             2362368   ['Encoder-3-FeedForward-Norm[0\n",
            " ention (MultiHeadAttention                                         ][0]']                        \n",
            " )                                                                                                \n",
            "                                                                                                  \n",
            " Encoder-4-MultiHeadSelfAtt  (None, 350, 768)             0         ['Encoder-4-MultiHeadSelfAtten\n",
            " ention-Dropout (Dropout)                                           tion[0][0]']                  \n",
            "                                                                                                  \n",
            " Encoder-4-MultiHeadSelfAtt  (None, 350, 768)             0         ['Encoder-3-FeedForward-Norm[0\n",
            " ention-Add (Add)                                                   ][0]',                        \n",
            "                                                                     'Encoder-4-MultiHeadSelfAtten\n",
            "                                                                    tion-Dropout[0][0]']          \n",
            "                                                                                                  \n",
            " Encoder-4-MultiHeadSelfAtt  (None, 350, 768)             1536      ['Encoder-4-MultiHeadSelfAtten\n",
            " ention-Norm (LayerNormaliz                                         tion-Add[0][0]']              \n",
            " ation)                                                                                           \n",
            "                                                                                                  \n",
            " Encoder-4-FeedForward (Fee  (None, 350, 768)             4722432   ['Encoder-4-MultiHeadSelfAtten\n",
            " dForward)                                                          tion-Norm[0][0]']             \n",
            "                                                                                                  \n",
            " Encoder-4-FeedForward-Drop  (None, 350, 768)             0         ['Encoder-4-FeedForward[0][0]'\n",
            " out (Dropout)                                                      ]                             \n",
            "                                                                                                  \n",
            " Encoder-4-FeedForward-Add   (None, 350, 768)             0         ['Encoder-4-MultiHeadSelfAtten\n",
            " (Add)                                                              tion-Norm[0][0]',             \n",
            "                                                                     'Encoder-4-FeedForward-Dropou\n",
            "                                                                    t[0][0]']                     \n",
            "                                                                                                  \n",
            " Encoder-4-FeedForward-Norm  (None, 350, 768)             1536      ['Encoder-4-FeedForward-Add[0]\n",
            "  (LayerNormalization)                                              [0]']                         \n",
            "                                                                                                  \n",
            " Encoder-5-MultiHeadSelfAtt  (None, 350, 768)             2362368   ['Encoder-4-FeedForward-Norm[0\n",
            " ention (MultiHeadAttention                                         ][0]']                        \n",
            " )                                                                                                \n",
            "                                                                                                  \n",
            " Encoder-5-MultiHeadSelfAtt  (None, 350, 768)             0         ['Encoder-5-MultiHeadSelfAtten\n",
            " ention-Dropout (Dropout)                                           tion[0][0]']                  \n",
            "                                                                                                  \n",
            " Encoder-5-MultiHeadSelfAtt  (None, 350, 768)             0         ['Encoder-4-FeedForward-Norm[0\n",
            " ention-Add (Add)                                                   ][0]',                        \n",
            "                                                                     'Encoder-5-MultiHeadSelfAtten\n",
            "                                                                    tion-Dropout[0][0]']          \n",
            "                                                                                                  \n",
            " Encoder-5-MultiHeadSelfAtt  (None, 350, 768)             1536      ['Encoder-5-MultiHeadSelfAtten\n",
            " ention-Norm (LayerNormaliz                                         tion-Add[0][0]']              \n",
            " ation)                                                                                           \n",
            "                                                                                                  \n",
            " Encoder-5-FeedForward (Fee  (None, 350, 768)             4722432   ['Encoder-5-MultiHeadSelfAtten\n",
            " dForward)                                                          tion-Norm[0][0]']             \n",
            "                                                                                                  \n",
            " Encoder-5-FeedForward-Drop  (None, 350, 768)             0         ['Encoder-5-FeedForward[0][0]'\n",
            " out (Dropout)                                                      ]                             \n",
            "                                                                                                  \n",
            " Encoder-5-FeedForward-Add   (None, 350, 768)             0         ['Encoder-5-MultiHeadSelfAtten\n",
            " (Add)                                                              tion-Norm[0][0]',             \n",
            "                                                                     'Encoder-5-FeedForward-Dropou\n",
            "                                                                    t[0][0]']                     \n",
            "                                                                                                  \n",
            " Encoder-5-FeedForward-Norm  (None, 350, 768)             1536      ['Encoder-5-FeedForward-Add[0]\n",
            "  (LayerNormalization)                                              [0]']                         \n",
            "                                                                                                  \n",
            " Encoder-6-MultiHeadSelfAtt  (None, 350, 768)             2362368   ['Encoder-5-FeedForward-Norm[0\n",
            " ention (MultiHeadAttention                                         ][0]']                        \n",
            " )                                                                                                \n",
            "                                                                                                  \n",
            " Encoder-6-MultiHeadSelfAtt  (None, 350, 768)             0         ['Encoder-6-MultiHeadSelfAtten\n",
            " ention-Dropout (Dropout)                                           tion[0][0]']                  \n",
            "                                                                                                  \n",
            " Encoder-6-MultiHeadSelfAtt  (None, 350, 768)             0         ['Encoder-5-FeedForward-Norm[0\n",
            " ention-Add (Add)                                                   ][0]',                        \n",
            "                                                                     'Encoder-6-MultiHeadSelfAtten\n",
            "                                                                    tion-Dropout[0][0]']          \n",
            "                                                                                                  \n",
            " Encoder-6-MultiHeadSelfAtt  (None, 350, 768)             1536      ['Encoder-6-MultiHeadSelfAtten\n",
            " ention-Norm (LayerNormaliz                                         tion-Add[0][0]']              \n",
            " ation)                                                                                           \n",
            "                                                                                                  \n",
            " Encoder-6-FeedForward (Fee  (None, 350, 768)             4722432   ['Encoder-6-MultiHeadSelfAtten\n",
            " dForward)                                                          tion-Norm[0][0]']             \n",
            "                                                                                                  \n",
            " Encoder-6-FeedForward-Drop  (None, 350, 768)             0         ['Encoder-6-FeedForward[0][0]'\n",
            " out (Dropout)                                                      ]                             \n",
            "                                                                                                  \n",
            " Encoder-6-FeedForward-Add   (None, 350, 768)             0         ['Encoder-6-MultiHeadSelfAtten\n",
            " (Add)                                                              tion-Norm[0][0]',             \n",
            "                                                                     'Encoder-6-FeedForward-Dropou\n",
            "                                                                    t[0][0]']                     \n",
            "                                                                                                  \n",
            " Encoder-6-FeedForward-Norm  (None, 350, 768)             1536      ['Encoder-6-FeedForward-Add[0]\n",
            "  (LayerNormalization)                                              [0]']                         \n",
            "                                                                                                  \n",
            " Encoder-7-MultiHeadSelfAtt  (None, 350, 768)             2362368   ['Encoder-6-FeedForward-Norm[0\n",
            " ention (MultiHeadAttention                                         ][0]']                        \n",
            " )                                                                                                \n",
            "                                                                                                  \n",
            " Encoder-7-MultiHeadSelfAtt  (None, 350, 768)             0         ['Encoder-7-MultiHeadSelfAtten\n",
            " ention-Dropout (Dropout)                                           tion[0][0]']                  \n",
            "                                                                                                  \n",
            " Encoder-7-MultiHeadSelfAtt  (None, 350, 768)             0         ['Encoder-6-FeedForward-Norm[0\n",
            " ention-Add (Add)                                                   ][0]',                        \n",
            "                                                                     'Encoder-7-MultiHeadSelfAtten\n",
            "                                                                    tion-Dropout[0][0]']          \n",
            "                                                                                                  \n",
            " Encoder-7-MultiHeadSelfAtt  (None, 350, 768)             1536      ['Encoder-7-MultiHeadSelfAtten\n",
            " ention-Norm (LayerNormaliz                                         tion-Add[0][0]']              \n",
            " ation)                                                                                           \n",
            "                                                                                                  \n",
            " Encoder-7-FeedForward (Fee  (None, 350, 768)             4722432   ['Encoder-7-MultiHeadSelfAtten\n",
            " dForward)                                                          tion-Norm[0][0]']             \n",
            "                                                                                                  \n",
            " Encoder-7-FeedForward-Drop  (None, 350, 768)             0         ['Encoder-7-FeedForward[0][0]'\n",
            " out (Dropout)                                                      ]                             \n",
            "                                                                                                  \n",
            " Encoder-7-FeedForward-Add   (None, 350, 768)             0         ['Encoder-7-MultiHeadSelfAtten\n",
            " (Add)                                                              tion-Norm[0][0]',             \n",
            "                                                                     'Encoder-7-FeedForward-Dropou\n",
            "                                                                    t[0][0]']                     \n",
            "                                                                                                  \n",
            " Encoder-7-FeedForward-Norm  (None, 350, 768)             1536      ['Encoder-7-FeedForward-Add[0]\n",
            "  (LayerNormalization)                                              [0]']                         \n",
            "                                                                                                  \n",
            " Encoder-8-MultiHeadSelfAtt  (None, 350, 768)             2362368   ['Encoder-7-FeedForward-Norm[0\n",
            " ention (MultiHeadAttention                                         ][0]']                        \n",
            " )                                                                                                \n",
            "                                                                                                  \n",
            " Encoder-8-MultiHeadSelfAtt  (None, 350, 768)             0         ['Encoder-8-MultiHeadSelfAtten\n",
            " ention-Dropout (Dropout)                                           tion[0][0]']                  \n",
            "                                                                                                  \n",
            " Encoder-8-MultiHeadSelfAtt  (None, 350, 768)             0         ['Encoder-7-FeedForward-Norm[0\n",
            " ention-Add (Add)                                                   ][0]',                        \n",
            "                                                                     'Encoder-8-MultiHeadSelfAtten\n",
            "                                                                    tion-Dropout[0][0]']          \n",
            "                                                                                                  \n",
            " Encoder-8-MultiHeadSelfAtt  (None, 350, 768)             1536      ['Encoder-8-MultiHeadSelfAtten\n",
            " ention-Norm (LayerNormaliz                                         tion-Add[0][0]']              \n",
            " ation)                                                                                           \n",
            "                                                                                                  \n",
            " Encoder-8-FeedForward (Fee  (None, 350, 768)             4722432   ['Encoder-8-MultiHeadSelfAtten\n",
            " dForward)                                                          tion-Norm[0][0]']             \n",
            "                                                                                                  \n",
            " Encoder-8-FeedForward-Drop  (None, 350, 768)             0         ['Encoder-8-FeedForward[0][0]'\n",
            " out (Dropout)                                                      ]                             \n",
            "                                                                                                  \n",
            " Encoder-8-FeedForward-Add   (None, 350, 768)             0         ['Encoder-8-MultiHeadSelfAtten\n",
            " (Add)                                                              tion-Norm[0][0]',             \n",
            "                                                                     'Encoder-8-FeedForward-Dropou\n",
            "                                                                    t[0][0]']                     \n",
            "                                                                                                  \n",
            " Encoder-8-FeedForward-Norm  (None, 350, 768)             1536      ['Encoder-8-FeedForward-Add[0]\n",
            "  (LayerNormalization)                                              [0]']                         \n",
            "                                                                                                  \n",
            " Encoder-9-MultiHeadSelfAtt  (None, 350, 768)             2362368   ['Encoder-8-FeedForward-Norm[0\n",
            " ention (MultiHeadAttention                                         ][0]']                        \n",
            " )                                                                                                \n",
            "                                                                                                  \n",
            " Encoder-9-MultiHeadSelfAtt  (None, 350, 768)             0         ['Encoder-9-MultiHeadSelfAtten\n",
            " ention-Dropout (Dropout)                                           tion[0][0]']                  \n",
            "                                                                                                  \n",
            " Encoder-9-MultiHeadSelfAtt  (None, 350, 768)             0         ['Encoder-8-FeedForward-Norm[0\n",
            " ention-Add (Add)                                                   ][0]',                        \n",
            "                                                                     'Encoder-9-MultiHeadSelfAtten\n",
            "                                                                    tion-Dropout[0][0]']          \n",
            "                                                                                                  \n",
            " Encoder-9-MultiHeadSelfAtt  (None, 350, 768)             1536      ['Encoder-9-MultiHeadSelfAtten\n",
            " ention-Norm (LayerNormaliz                                         tion-Add[0][0]']              \n",
            " ation)                                                                                           \n",
            "                                                                                                  \n",
            " Encoder-9-FeedForward (Fee  (None, 350, 768)             4722432   ['Encoder-9-MultiHeadSelfAtten\n",
            " dForward)                                                          tion-Norm[0][0]']             \n",
            "                                                                                                  \n",
            " Encoder-9-FeedForward-Drop  (None, 350, 768)             0         ['Encoder-9-FeedForward[0][0]'\n",
            " out (Dropout)                                                      ]                             \n",
            "                                                                                                  \n",
            " Encoder-9-FeedForward-Add   (None, 350, 768)             0         ['Encoder-9-MultiHeadSelfAtten\n",
            " (Add)                                                              tion-Norm[0][0]',             \n",
            "                                                                     'Encoder-9-FeedForward-Dropou\n",
            "                                                                    t[0][0]']                     \n",
            "                                                                                                  \n",
            " Encoder-9-FeedForward-Norm  (None, 350, 768)             1536      ['Encoder-9-FeedForward-Add[0]\n",
            "  (LayerNormalization)                                              [0]']                         \n",
            "                                                                                                  \n",
            " Encoder-10-MultiHeadSelfAt  (None, 350, 768)             2362368   ['Encoder-9-FeedForward-Norm[0\n",
            " tention (MultiHeadAttentio                                         ][0]']                        \n",
            " n)                                                                                               \n",
            "                                                                                                  \n",
            " Encoder-10-MultiHeadSelfAt  (None, 350, 768)             0         ['Encoder-10-MultiHeadSelfAtte\n",
            " tention-Dropout (Dropout)                                          ntion[0][0]']                 \n",
            "                                                                                                  \n",
            " Encoder-10-MultiHeadSelfAt  (None, 350, 768)             0         ['Encoder-9-FeedForward-Norm[0\n",
            " tention-Add (Add)                                                  ][0]',                        \n",
            "                                                                     'Encoder-10-MultiHeadSelfAtte\n",
            "                                                                    ntion-Dropout[0][0]']         \n",
            "                                                                                                  \n",
            " Encoder-10-MultiHeadSelfAt  (None, 350, 768)             1536      ['Encoder-10-MultiHeadSelfAtte\n",
            " tention-Norm (LayerNormali                                         ntion-Add[0][0]']             \n",
            " zation)                                                                                          \n",
            "                                                                                                  \n",
            " Encoder-10-FeedForward (Fe  (None, 350, 768)             4722432   ['Encoder-10-MultiHeadSelfAtte\n",
            " edForward)                                                         ntion-Norm[0][0]']            \n",
            "                                                                                                  \n",
            " Encoder-10-FeedForward-Dro  (None, 350, 768)             0         ['Encoder-10-FeedForward[0][0]\n",
            " pout (Dropout)                                                     ']                            \n",
            "                                                                                                  \n",
            " Encoder-10-FeedForward-Add  (None, 350, 768)             0         ['Encoder-10-MultiHeadSelfAtte\n",
            "  (Add)                                                             ntion-Norm[0][0]',            \n",
            "                                                                     'Encoder-10-FeedForward-Dropo\n",
            "                                                                    ut[0][0]']                    \n",
            "                                                                                                  \n",
            " Encoder-10-FeedForward-Nor  (None, 350, 768)             1536      ['Encoder-10-FeedForward-Add[0\n",
            " m (LayerNormalization)                                             ][0]']                        \n",
            "                                                                                                  \n",
            " Encoder-11-MultiHeadSelfAt  (None, 350, 768)             2362368   ['Encoder-10-FeedForward-Norm[\n",
            " tention (MultiHeadAttentio                                         0][0]']                       \n",
            " n)                                                                                               \n",
            "                                                                                                  \n",
            " Encoder-11-MultiHeadSelfAt  (None, 350, 768)             0         ['Encoder-11-MultiHeadSelfAtte\n",
            " tention-Dropout (Dropout)                                          ntion[0][0]']                 \n",
            "                                                                                                  \n",
            " Encoder-11-MultiHeadSelfAt  (None, 350, 768)             0         ['Encoder-10-FeedForward-Norm[\n",
            " tention-Add (Add)                                                  0][0]',                       \n",
            "                                                                     'Encoder-11-MultiHeadSelfAtte\n",
            "                                                                    ntion-Dropout[0][0]']         \n",
            "                                                                                                  \n",
            " Encoder-11-MultiHeadSelfAt  (None, 350, 768)             1536      ['Encoder-11-MultiHeadSelfAtte\n",
            " tention-Norm (LayerNormali                                         ntion-Add[0][0]']             \n",
            " zation)                                                                                          \n",
            "                                                                                                  \n",
            " Encoder-11-FeedForward (Fe  (None, 350, 768)             4722432   ['Encoder-11-MultiHeadSelfAtte\n",
            " edForward)                                                         ntion-Norm[0][0]']            \n",
            "                                                                                                  \n",
            " Encoder-11-FeedForward-Dro  (None, 350, 768)             0         ['Encoder-11-FeedForward[0][0]\n",
            " pout (Dropout)                                                     ']                            \n",
            "                                                                                                  \n",
            " Encoder-11-FeedForward-Add  (None, 350, 768)             0         ['Encoder-11-MultiHeadSelfAtte\n",
            "  (Add)                                                             ntion-Norm[0][0]',            \n",
            "                                                                     'Encoder-11-FeedForward-Dropo\n",
            "                                                                    ut[0][0]']                    \n",
            "                                                                                                  \n",
            " Encoder-11-FeedForward-Nor  (None, 350, 768)             1536      ['Encoder-11-FeedForward-Add[0\n",
            " m (LayerNormalization)                                             ][0]']                        \n",
            "                                                                                                  \n",
            " Encoder-12-MultiHeadSelfAt  (None, 350, 768)             2362368   ['Encoder-11-FeedForward-Norm[\n",
            " tention (MultiHeadAttentio                                         0][0]']                       \n",
            " n)                                                                                               \n",
            "                                                                                                  \n",
            " Encoder-12-MultiHeadSelfAt  (None, 350, 768)             0         ['Encoder-12-MultiHeadSelfAtte\n",
            " tention-Dropout (Dropout)                                          ntion[0][0]']                 \n",
            "                                                                                                  \n",
            " Encoder-12-MultiHeadSelfAt  (None, 350, 768)             0         ['Encoder-11-FeedForward-Norm[\n",
            " tention-Add (Add)                                                  0][0]',                       \n",
            "                                                                     'Encoder-12-MultiHeadSelfAtte\n",
            "                                                                    ntion-Dropout[0][0]']         \n",
            "                                                                                                  \n",
            " Encoder-12-MultiHeadSelfAt  (None, 350, 768)             1536      ['Encoder-12-MultiHeadSelfAtte\n",
            " tention-Norm (LayerNormali                                         ntion-Add[0][0]']             \n",
            " zation)                                                                                          \n",
            "                                                                                                  \n",
            " Encoder-12-FeedForward (Fe  (None, 350, 768)             4722432   ['Encoder-12-MultiHeadSelfAtte\n",
            " edForward)                                                         ntion-Norm[0][0]']            \n",
            "                                                                                                  \n",
            " Encoder-12-FeedForward-Dro  (None, 350, 768)             0         ['Encoder-12-FeedForward[0][0]\n",
            " pout (Dropout)                                                     ']                            \n",
            "                                                                                                  \n",
            " Encoder-12-FeedForward-Add  (None, 350, 768)             0         ['Encoder-12-MultiHeadSelfAtte\n",
            "  (Add)                                                             ntion-Norm[0][0]',            \n",
            "                                                                     'Encoder-12-FeedForward-Dropo\n",
            "                                                                    ut[0][0]']                    \n",
            "                                                                                                  \n",
            " Encoder-12-FeedForward-Nor  (None, 350, 768)             1536      ['Encoder-12-FeedForward-Add[0\n",
            " m (LayerNormalization)                                             ][0]']                        \n",
            "                                                                                                  \n",
            " Extract (Extract)           (None, 768)                  0         ['Encoder-12-FeedForward-Norm[\n",
            "                                                                    0][0]']                       \n",
            "                                                                                                  \n",
            " NSP-Dense (Dense)           (None, 768)                  590592    ['Extract[0][0]']             \n",
            "                                                                                                  \n",
            " dense (Dense)               (None, 5)                    3845      ['NSP-Dense[0][0]']           \n",
            "                                                                                                  \n",
            "==================================================================================================\n",
            "Total params: 109361669 (417.18 MB)\n",
            "Trainable params: 109361669 (417.18 MB)\n",
            "Non-trainable params: 0 (0.00 Byte)\n",
            "__________________________________________________________________________________________________\n"
          ]
        }
      ],
      "source": [
        "model.summary()"
      ]
    },
    {
      "cell_type": "code",
      "execution_count": 18,
      "metadata": {
        "id": "zc4NneNsrqlD"
      },
      "outputs": [],
      "source": [
        "learner = ktrain.get_learner(model, train_data=(x_train, y_train),\n",
        "                             val_data=(x_test, y_test),\n",
        "                             batch_size=6)"
      ]
    },
    {
      "cell_type": "code",
      "execution_count": 19,
      "metadata": {
        "colab": {
          "base_uri": "https://localhost:8080/"
        },
        "id": "qaaxy4L4r-wz",
        "outputId": "1aca8dc8-7639-49da-f9ab-5a41da68f2e2"
      },
      "outputs": [
        {
          "output_type": "stream",
          "name": "stdout",
          "text": [
            "simulating training for different learning rates... this may take a few moments...\n"
          ]
        },
        {
          "output_type": "stream",
          "name": "stderr",
          "text": [
            "/usr/local/lib/python3.10/dist-packages/keras/src/engine/training.py:3079: UserWarning: You are saving your model as an HDF5 file via `model.save()`. This file format is considered legacy. We recommend using instead the native Keras format, e.g. `model.save('my_model.keras')`.\n",
            "  saving_api.save_model(\n"
          ]
        },
        {
          "output_type": "stream",
          "name": "stdout",
          "text": [
            "Epoch 1/1024\n",
            "1417/1417 [==============================] - 767s 521ms/step - loss: 6.3893 - accuracy: 0.2866\n",
            "Epoch 2/1024\n",
            "1417/1417 [==============================] - 1s 3us/step - loss: 86.6103 - accuracy: 0.1667\n",
            "\n",
            "\n",
            "done.\n",
            "Please invoke the Learner.lr_plot() method to visually inspect the loss plot to help identify the maximal learning rate associated with falling loss.\n"
          ]
        }
      ],
      "source": [
        "learner.lr_find()"
      ]
    },
    {
      "cell_type": "code",
      "execution_count": 20,
      "metadata": {
        "colab": {
          "base_uri": "https://localhost:8080/",
          "height": 454
        },
        "id": "RgA8gJHrr_0v",
        "outputId": "62942cc4-26d8-4e96-98cc-a4c0c6557ac2"
      },
      "outputs": [
        {
          "output_type": "display_data",
          "data": {
            "text/plain": [
              "<Figure size 640x480 with 1 Axes>"
            ],
            "image/png": "[encoded data removed]"
          },
          "metadata": {}
        }
      ],
      "source": [
        "learner.lr_plot()"
      ]
    },
    {
      "cell_type": "code",
      "execution_count": 21,
      "metadata": {
        "colab": {
          "base_uri": "https://localhost:8080/"
        },
        "id": "ZRETXT_ZrwN5",
        "outputId": "a3dcd0ba-24e4-4b89-c572-9866f350a789"
      },
      "outputs": [
        {
          "output_type": "stream",
          "name": "stdout",
          "text": [
            "\n",
            "\n",
            "begin training using onecycle policy with max lr of 1e-05...\n",
            "Epoch 1/3\n",
            "1417/1417 [==============================] - 855s 588ms/step - loss: 1.3068 - accuracy: 0.4415 - val_loss: 0.7805 - val_accuracy: 0.7172\n",
            "Epoch 2/3\n",
            "1417/1417 [==============================] - 829s 585ms/step - loss: 0.6582 - accuracy: 0.7628 - val_loss: 0.5979 - val_accuracy: 0.7859\n",
            "Epoch 3/3\n",
            "1417/1417 [==============================] - 829s 585ms/step - loss: 0.4077 - accuracy: 0.8541 - val_loss: 0.6120 - val_accuracy: 0.7779\n"
          ]
        },
        {
          "output_type": "execute_result",
          "data": {
            "text/plain": [
              "<keras.src.callbacks.History at 0x782a3cebea10>"
            ]
          },
          "metadata": {},
          "execution_count": 21
        }
      ],
      "source": [
        "learner.fit_onecycle(1e-5, 3)"
      ]
    },
    {
      "cell_type": "code",
      "execution_count": 22,
      "metadata": {
        "colab": {
          "base_uri": "https://localhost:8080/"
        },
        "id": "1icWjKA_Th6V",
        "outputId": "1c130871-4e6d-4ba5-cc48-610e18bd52d6"
      },
      "outputs": [
        {
          "output_type": "stream",
          "name": "stdout",
          "text": [
            "67/67 [==============================] - 64s 899ms/step\n",
            "              precision    recall  f1-score   support\n",
            "\n",
            "        fear       0.81      0.86      0.83       436\n",
            "     neutral       0.69      0.77      0.73       451\n",
            "     sadness       0.74      0.69      0.72       436\n",
            "         joy       0.85      0.77      0.81       439\n",
            "       anger       0.83      0.79      0.81       363\n",
            "\n",
            "    accuracy                           0.78      2125\n",
            "   macro avg       0.78      0.78      0.78      2125\n",
            "weighted avg       0.78      0.78      0.78      2125\n",
            "\n"
          ]
        },
        {
          "output_type": "execute_result",
          "data": {
            "text/plain": [
              "array([[376,  13,  22,   9,  16],\n",
              "       [ 11, 348,  51,  33,   8],\n",
              "       [ 33,  59, 303,  13,  28],\n",
              "       [ 18,  67,   9, 339,   6],\n",
              "       [ 27,  19,  26,   4, 287]])"
            ]
          },
          "metadata": {},
          "execution_count": 22
        }
      ],
      "source": [
        "learner.validate(val_data=(x_test, y_test), class_names=class_names)"
      ]
    },
    {
      "cell_type": "code",
      "execution_count": 23,
      "metadata": {
        "id": "PvrtV5E8aFQK"
      },
      "outputs": [],
      "source": [
        "predictor = ktrain.get_predictor(learner.model, preproc)"
      ]
    },
    {
      "cell_type": "code",
      "execution_count": 24,
      "metadata": {
        "id": "HmDs41h-VWTs",
        "colab": {
          "base_uri": "https://localhost:8080/"
        },
        "outputId": "0425e86a-bf7c-44c5-fcbf-5a69056813cf"
      },
      "outputs": [
        {
          "output_type": "stream",
          "name": "stderr",
          "text": [
            "/usr/local/lib/python3.10/dist-packages/keras/src/engine/training.py:3079: UserWarning: You are saving your model as an HDF5 file via `model.save()`. This file format is considered legacy. We recommend using instead the native Keras format, e.g. `model.save('my_model.keras')`.\n",
            "  saving_api.save_model(\n"
          ]
        }
      ],
      "source": [
        "predictor.save(\"models/tweet_emotion_model\")"
      ]
    }
  ],
  "metadata": {
    "colab": {
      "provenance": []
    },
    "gpuClass": "standard",
    "kernelspec": {
      "display_name": "Python 3",
      "name": "python3"
    },
    "language_info": {
      "name": "python"
    },
    "accelerator": "GPU"
  },
  "nbformat": 4,
  "nbformat_minor": 0
}