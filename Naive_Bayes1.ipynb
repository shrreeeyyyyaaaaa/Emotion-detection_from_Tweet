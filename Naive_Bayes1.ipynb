{
  "cells": [
    {
      "cell_type": "code",
      "execution_count": 1,
      "id": "92918598",
      "metadata": {
        "colab": {
          "base_uri": "https://localhost:8080/"
        },
        "id": "92918598",
        "outputId": "5426bb8e-23c1-469d-b7f0-b2ecdaf32521"
      },
      "outputs": [
        {
          "output_type": "stream",
          "name": "stderr",
          "text": [
            "[nltk_data] Downloading package wordnet to /root/nltk_data...\n",
            "[nltk_data] Downloading package omw-1.4 to /root/nltk_data...\n"
          ]
        },
        {
          "output_type": "execute_result",
          "data": {
            "text/plain": [
              "True"
            ]
          },
          "metadata": {},
          "execution_count": 1
        }
      ],
      "source": [
        "import pandas as pd\n",
        "import re\n",
        "import nltk\n",
        "from nltk.corpus import stopwords\n",
        "from nltk.stem import WordNetLemmatizer\n",
        "from sklearn.model_selection import train_test_split\n",
        "from sklearn.feature_extraction.text import CountVectorizer\n",
        "from sklearn.naive_bayes import MultinomialNB\n",
        "from sklearn.metrics import accuracy_score, classification_report, confusion_matrix\n",
        "nltk.download('wordnet')\n",
        "nltk.download('omw-1.4')"
      ]
    },
    {
      "cell_type": "markdown",
      "id": "54aca8ef",
      "metadata": {
        "id": "54aca8ef"
      },
      "source": [
        "# Naive Bayes"
      ]
    },
    {
      "cell_type": "code",
      "execution_count": 3,
      "id": "4662aabc",
      "metadata": {
        "colab": {
          "base_uri": "https://localhost:8080/"
        },
        "id": "4662aabc",
        "outputId": "d5b35c21-c139-468e-f4c5-d5eabac357e8"
      },
      "outputs": [
        {
          "output_type": "stream",
          "name": "stdout",
          "text": [
            "Accuracy: 0.6757647058823529\n",
            "              precision    recall  f1-score   support\n",
            "\n",
            "       anger       0.79      0.73      0.76       359\n",
            "        fear       0.72      0.85      0.78       454\n",
            "         joy       0.75      0.70      0.73       443\n",
            "     neutral       0.63      0.42      0.50       439\n",
            "     sadness       0.54      0.69      0.60       430\n",
            "\n",
            "    accuracy                           0.68      2125\n",
            "   macro avg       0.68      0.68      0.67      2125\n",
            "weighted avg       0.68      0.68      0.67      2125\n",
            "\n",
            "[[262  28  10   9  50]\n",
            " [  9 384  10  10  41]\n",
            " [ 15  32 310  46  40]\n",
            " [ 17  47  66 184 125]\n",
            " [ 28  45  16  45 296]]\n"
          ]
        }
      ],
      "source": [
        "data = pd.read_csv('/content/tweet_and_emotion (2).csv')\n",
        "# Split the dataset into training and testing sets\n",
        "X_train, X_test, y_train, y_test = train_test_split(data['tweet'], data['emotions'], test_size=0.2, random_state=50)\n",
        "\n",
        "# Vectorize the tweet content using a CountVectorizer\n",
        "vectorizer = CountVectorizer()\n",
        "X_train = vectorizer.fit_transform(X_train)\n",
        "X_test = vectorizer.transform(X_test)\n",
        "\n",
        "# Apply Naive Bayes to the vectorized dataset\n",
        "clf = MultinomialNB()\n",
        "clf.fit(X_train, y_train)\n",
        "y_pred = clf.predict(X_test)\n",
        "\n",
        "# Evaluate the performance of the classifier\n",
        "# print(\"Accuracy:\", accuracy_score(y_test, y_pred))\n",
        "# print(classification_report(y_test, y_pred))\n",
        "# print(confusion_matrix(y_test, y_pred))\n",
        "# Evaluate the performance of the classifier\n",
        "print(\"Accuracy:\", accuracy_score(y_test, y_pred))\n",
        "print(classification_report(y_test, y_pred, zero_division=1))\n",
        "print(confusion_matrix(y_test, y_pred))\n"
      ]
    }
  ],
  "metadata": {
    "kernelspec": {
      "display_name": "Python 3 (ipykernel)",
      "language": "python",
      "name": "python3"
    },
    "language_info": {
      "codemirror_mode": {
        "name": "ipython",
        "version": 3
      },
      "file_extension": ".py",
      "mimetype": "text/x-python",
      "name": "python",
      "nbconvert_exporter": "python",
      "pygments_lexer": "ipython3",
      "version": "3.9.13"
    },
    "colab": {
      "provenance": []
    }
  },
  "nbformat": 4,
  "nbformat_minor": 5
}