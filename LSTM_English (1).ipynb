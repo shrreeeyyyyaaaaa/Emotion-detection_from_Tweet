{
  "nbformat": 4,
  "nbformat_minor": 0,
  "metadata": {
    "colab": {
      "provenance": []
    },
    "kernelspec": {
      "name": "python3",
      "display_name": "Python 3"
    },
    "language_info": {
      "name": "python"
    }
  },
  "cells": [
    {
      "cell_type": "code",
      "execution_count": 16,
      "metadata": {
        "id": "MGsUr95M7evp"
      },
      "outputs": [],
      "source": [
        "import numpy as np\n",
        "import pandas as pd\n",
        "from sklearn.model_selection import train_test_split\n",
        "from tensorflow import keras\n",
        "from tensorflow.keras.preprocessing.text import Tokenizer\n",
        "from tensorflow.keras.preprocessing.sequence import pad_sequences\n",
        "from tensorflow.keras.models import Sequential\n",
        "from tensorflow.keras.layers import Embedding, LSTM, Dense\n",
        "from tensorflow.keras.utils import to_categorical\n"
      ]
    },
    {
      "cell_type": "code",
      "source": [
        "# Load your dataset (adjust the file path and data loading as needed)\n",
        "data = pd.read_csv('/content/tweet_and_emotion.csv')\n"
      ],
      "metadata": {
        "id": "R8q8pnoC8Evm"
      },
      "execution_count": 17,
      "outputs": []
    },
    {
      "cell_type": "code",
      "source": [
        "# Split the dataset into training and testing sets\n",
        "X = data['tweet']  # Text data\n",
        "y = data['emotions']  # Emotion labels"
      ],
      "metadata": {
        "id": "u2Pn8IxD8HPl"
      },
      "execution_count": 18,
      "outputs": []
    },
    {
      "cell_type": "code",
      "source": [
        "X_train, X_test, y_train, y_test = train_test_split(X, y, test_size=0.5, random_state=1104)"
      ],
      "metadata": {
        "id": "lhOXbdsb8KAC"
      },
      "execution_count": 19,
      "outputs": []
    },
    {
      "cell_type": "code",
      "source": [
        "# Tokenize the text data\n",
        "max_words = 10000  # Maximum number of words to keep\n",
        "tokenizer = Tokenizer(num_words=max_words, oov_token='<OOV>')\n",
        "tokenizer.fit_on_texts(X_train)"
      ],
      "metadata": {
        "id": "HoGoN5748MpE"
      },
      "execution_count": 20,
      "outputs": []
    },
    {
      "cell_type": "code",
      "source": [
        "X_train_seq = tokenizer.texts_to_sequences(X_train)\n",
        "X_test_seq = tokenizer.texts_to_sequences(X_test)"
      ],
      "metadata": {
        "id": "MPGbYVJU8PWs"
      },
      "execution_count": 21,
      "outputs": []
    },
    {
      "cell_type": "code",
      "source": [
        "# Pad sequences to have a consistent length\n",
        "max_sequence_length = 100  # Adjust as needed\n",
        "X_train_padded = pad_sequences(X_train_seq, maxlen=max_sequence_length, padding='post', truncating='post')\n",
        "X_test_padded = pad_sequences(X_test_seq, maxlen=max_sequence_length, padding='post', truncating='post')"
      ],
      "metadata": {
        "id": "1Yxw5DNX8SQy"
      },
      "execution_count": 22,
      "outputs": []
    },
    {
      "cell_type": "code",
      "source": [
        "emotion_label_mapping = {\n",
        "    'sadness': 0,\n",
        "    'joy': 1,\n",
        "    'anger': 2,\n",
        "    'fear': 3,\n",
        "    'neutral': 4\n",
        "}\n"
      ],
      "metadata": {
        "id": "PtOlg7Ey91GC"
      },
      "execution_count": 23,
      "outputs": []
    },
    {
      "cell_type": "code",
      "source": [
        "y_train_encoded = y_train.map(emotion_label_mapping)\n",
        "y_test_encoded = y_test.map(emotion_label_mapping)"
      ],
      "metadata": {
        "id": "YRpxbV6d-FDi"
      },
      "execution_count": 33,
      "outputs": []
    },
    {
      "cell_type": "code",
      "source": [
        "num_classes = len(emotion_label_mapping)\n",
        "y_train_encoded = to_categorical(y_train_encoded, num_classes)\n",
        "y_test_encoded = to_categorical(y_test_encoded, num_classes)"
      ],
      "metadata": {
        "id": "rUsbS_Ob-Fxh"
      },
      "execution_count": 34,
      "outputs": []
    },
    {
      "cell_type": "code",
      "source": [
        "from tensorflow.keras.models import Sequential\n",
        "from tensorflow.keras.layers import Embedding, LSTM, Dense, SpatialDropout1D, Bidirectional\n",
        "from tensorflow.keras.utils import to_categorical"
      ],
      "metadata": {
        "id": "7YOVL1LrBnOr"
      },
      "execution_count": 36,
      "outputs": []
    },
    {
      "cell_type": "code",
      "source": [
        "# Build an LSTM model\n",
        "model = Sequential()\n",
        "model.add(Embedding(input_dim=max_words, output_dim=128, input_length=max_sequence_length))\n",
        "model.add(SpatialDropout1D(0.2))  # Dropout layer\n",
        "model.add(Bidirectional(LSTM(64, return_sequences=True)))  # Bidirectional LSTM\n",
        "model.add(Bidirectional(LSTM(64)))  # Bidirectional LSTM\n",
        "model.add(Dense(64, activation='relu'))\n",
        "model.add(Dense(num_classes, activation='softmax'))\n"
      ],
      "metadata": {
        "id": "15Xps5Yp8XdJ"
      },
      "execution_count": 37,
      "outputs": []
    },
    {
      "cell_type": "code",
      "source": [
        "model.compile(optimizer='adam', loss='categorical_crossentropy', metrics=['accuracy'])"
      ],
      "metadata": {
        "id": "iGQnd2R2Bxjf"
      },
      "execution_count": 40,
      "outputs": []
    },
    {
      "cell_type": "code",
      "source": [
        "# Train the model\n",
        "model.fit(X_train_padded, y_train_encoded, epochs=30, batch_size=64, validation_data=(X_test_padded, y_test_encoded))"
      ],
      "metadata": {
        "colab": {
          "base_uri": "https://localhost:8080/"
        },
        "id": "ycC7-RBrB01P",
        "outputId": "f0d45dbd-67c8-4f1f-bfd2-29a91ab9c9f1"
      },
      "execution_count": 41,
      "outputs": [
        {
          "output_type": "stream",
          "name": "stdout",
          "text": [
            "Epoch 1/30\n",
            "83/83 [==============================] - 51s 561ms/step - loss: 1.5782 - accuracy: 0.2620 - val_loss: 1.5430 - val_accuracy: 0.2935\n",
            "Epoch 2/30\n",
            "83/83 [==============================] - 28s 342ms/step - loss: 1.3514 - accuracy: 0.4151 - val_loss: 1.2291 - val_accuracy: 0.5267\n",
            "Epoch 3/30\n",
            "83/83 [==============================] - 28s 341ms/step - loss: 0.6749 - accuracy: 0.7634 - val_loss: 0.9627 - val_accuracy: 0.6691\n",
            "Epoch 4/30\n",
            "83/83 [==============================] - 29s 351ms/step - loss: 0.3180 - accuracy: 0.9032 - val_loss: 1.0644 - val_accuracy: 0.6915\n",
            "Epoch 5/30\n",
            "83/83 [==============================] - 28s 342ms/step - loss: 0.1830 - accuracy: 0.9439 - val_loss: 1.1104 - val_accuracy: 0.6977\n",
            "Epoch 6/30\n",
            "83/83 [==============================] - 29s 352ms/step - loss: 0.1353 - accuracy: 0.9618 - val_loss: 1.2161 - val_accuracy: 0.6930\n",
            "Epoch 7/30\n",
            "83/83 [==============================] - 28s 341ms/step - loss: 0.0939 - accuracy: 0.9710 - val_loss: 1.4289 - val_accuracy: 0.6860\n",
            "Epoch 8/30\n",
            "83/83 [==============================] - 28s 340ms/step - loss: 0.0738 - accuracy: 0.9752 - val_loss: 1.4778 - val_accuracy: 0.6813\n",
            "Epoch 9/30\n",
            "83/83 [==============================] - 29s 351ms/step - loss: 0.0675 - accuracy: 0.9778 - val_loss: 1.4753 - val_accuracy: 0.6830\n",
            "Epoch 10/30\n",
            "83/83 [==============================] - 28s 340ms/step - loss: 0.0586 - accuracy: 0.9784 - val_loss: 1.5282 - val_accuracy: 0.6813\n",
            "Epoch 11/30\n",
            "83/83 [==============================] - 29s 350ms/step - loss: 0.0601 - accuracy: 0.9795 - val_loss: 1.5749 - val_accuracy: 0.6768\n",
            "Epoch 12/30\n",
            "83/83 [==============================] - 28s 340ms/step - loss: 0.0588 - accuracy: 0.9770 - val_loss: 1.5927 - val_accuracy: 0.6604\n",
            "Epoch 13/30\n",
            "83/83 [==============================] - 28s 342ms/step - loss: 0.0588 - accuracy: 0.9768 - val_loss: 1.6521 - val_accuracy: 0.6657\n",
            "Epoch 14/30\n",
            "83/83 [==============================] - 29s 351ms/step - loss: 0.0452 - accuracy: 0.9814 - val_loss: 1.7025 - val_accuracy: 0.6766\n",
            "Epoch 15/30\n",
            "83/83 [==============================] - 28s 340ms/step - loss: 0.0427 - accuracy: 0.9817 - val_loss: 1.6221 - val_accuracy: 0.6745\n",
            "Epoch 16/30\n",
            "83/83 [==============================] - 29s 350ms/step - loss: 0.0380 - accuracy: 0.9853 - val_loss: 1.6671 - val_accuracy: 0.6856\n",
            "Epoch 17/30\n",
            "83/83 [==============================] - 28s 339ms/step - loss: 0.0319 - accuracy: 0.9857 - val_loss: 1.7039 - val_accuracy: 0.6888\n",
            "Epoch 18/30\n",
            "83/83 [==============================] - 28s 339ms/step - loss: 0.0293 - accuracy: 0.9863 - val_loss: 1.8198 - val_accuracy: 0.6841\n",
            "Epoch 19/30\n",
            "83/83 [==============================] - 29s 349ms/step - loss: 0.0275 - accuracy: 0.9863 - val_loss: 1.8088 - val_accuracy: 0.6717\n",
            "Epoch 20/30\n",
            "83/83 [==============================] - 28s 341ms/step - loss: 0.0303 - accuracy: 0.9849 - val_loss: 1.9570 - val_accuracy: 0.6798\n",
            "Epoch 21/30\n",
            "83/83 [==============================] - 29s 350ms/step - loss: 0.0339 - accuracy: 0.9836 - val_loss: 1.8298 - val_accuracy: 0.6798\n",
            "Epoch 22/30\n",
            "83/83 [==============================] - 28s 342ms/step - loss: 0.0321 - accuracy: 0.9859 - val_loss: 2.0376 - val_accuracy: 0.6627\n",
            "Epoch 23/30\n",
            "83/83 [==============================] - 28s 342ms/step - loss: 0.0330 - accuracy: 0.9849 - val_loss: 1.8150 - val_accuracy: 0.6822\n",
            "Epoch 24/30\n",
            "83/83 [==============================] - 29s 354ms/step - loss: 0.0269 - accuracy: 0.9861 - val_loss: 1.9048 - val_accuracy: 0.6811\n",
            "Epoch 25/30\n",
            "83/83 [==============================] - 28s 341ms/step - loss: 0.0272 - accuracy: 0.9863 - val_loss: 1.9521 - val_accuracy: 0.6879\n",
            "Epoch 26/30\n",
            "83/83 [==============================] - 29s 352ms/step - loss: 0.0364 - accuracy: 0.9840 - val_loss: 1.7983 - val_accuracy: 0.6881\n",
            "Epoch 27/30\n",
            "83/83 [==============================] - 28s 340ms/step - loss: 0.0272 - accuracy: 0.9880 - val_loss: 1.9573 - val_accuracy: 0.6826\n",
            "Epoch 28/30\n",
            "83/83 [==============================] - 28s 339ms/step - loss: 0.0250 - accuracy: 0.9874 - val_loss: 1.9739 - val_accuracy: 0.6864\n",
            "Epoch 29/30\n",
            "83/83 [==============================] - 29s 347ms/step - loss: 0.0301 - accuracy: 0.9863 - val_loss: 1.8969 - val_accuracy: 0.6847\n",
            "Epoch 30/30\n",
            "83/83 [==============================] - 28s 341ms/step - loss: 0.0260 - accuracy: 0.9857 - val_loss: 1.9930 - val_accuracy: 0.6672\n"
          ]
        },
        {
          "output_type": "execute_result",
          "data": {
            "text/plain": [
              "<keras.src.callbacks.History at 0x7aa6344b66e0>"
            ]
          },
          "metadata": {},
          "execution_count": 41
        }
      ]
    },
    {
      "cell_type": "code",
      "source": [
        "# Evaluate the model\n",
        "loss, accuracy = model.evaluate(X_test_padded, y_test_encoded)\n",
        "print(f'Loss: {loss:.4f}, Accuracy: {accuracy:.4f}')"
      ],
      "metadata": {
        "colab": {
          "base_uri": "https://localhost:8080/"
        },
        "id": "1bP9CY2c8gTR",
        "outputId": "235abb69-f9f5-4b14-c9b8-4eace1055d25"
      },
      "execution_count": 42,
      "outputs": [
        {
          "output_type": "stream",
          "name": "stdout",
          "text": [
            "166/166 [==============================] - 8s 40ms/step - loss: 1.9930 - accuracy: 0.6672\n",
            "Loss: 1.9930, Accuracy: 0.6672\n"
          ]
        }
      ]
    }
  ]
}